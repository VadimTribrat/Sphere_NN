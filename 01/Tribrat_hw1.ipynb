{
 "cells": [
  {
   "cell_type": "markdown",
   "metadata": {},
   "source": [
    "## Семинар 1 \"Полносвязные нейронные сети\""
   ]
  },
  {
   "cell_type": "markdown",
   "metadata": {},
   "source": [
    "ФИО: Трибрат Вадим Дмитриевич"
   ]
  },
  {
   "cell_type": "markdown",
   "metadata": {},
   "source": [
    "В этом задании вам предстоит реализовать проход \"вперед\" для полносвязной нейронную сети. В дальнейшем мы реализуем процедуру обучения и научим сеть распознавать рукописные цифры.\n",
    "\n",
    "На первой лекции мы познакомились с тем, что такое нейронные сети и изучили три слоя — линейный, сигмоида и SoftMax. Из этих слоев можно составлять глубокие архитектуры и обучать их при помощи градиентного спуска. Чтобы конструировать сложные архитектуры, можно реализовать каждый тип слоя как отдельный \"кирпичик\" и затем собирать полную архитектуру как конструктор. Это мы и попробуем сделать на первом и втором семинарах."
   ]
  },
  {
   "cell_type": "markdown",
   "metadata": {},
   "source": [
    "Каждый тип слоя мы будем реализовывать при помощи класса, который будет поддерживать три функции: forward, которая будет применять функцию, реализуемую слоем, к входной матрице и backward, которая будет вычислять градиенты и step, которая будет обновлять веса. Чтобы не применять функцию к каждому объекту в отдельности, мы будем подавать на вход слою матрицу размера (N, d), где N — количество объектов, а d — размерность каждого объекта."
   ]
  },
  {
   "cell_type": "markdown",
   "metadata": {},
   "source": [
    "<img src=backprop.pdf width=400/>"
   ]
  },
  {
   "cell_type": "markdown",
   "metadata": {},
   "source": [
    "Функция forward будет вычислять по $x$ значение $y$, backward — по $\\frac{\\partial L}{\\partial y}$ вычислять $\\frac{\\partial L}{\\partial x}$ и обновлять внутри себя $\\frac{\\partial L}{\\partial w}$.\n",
    "\n",
    "Важным требованием к реализации является векторизация всех слоев: все операции должны быть сведены к матричным, не должно быть циклов. Это значительно уменьшает временные затраты."
   ]
  },
  {
   "cell_type": "code",
   "execution_count": 1,
   "metadata": {},
   "outputs": [],
   "source": [
    "import matplotlib.pyplot as plt\n",
    "import numpy as np\n",
    "%matplotlib inline"
   ]
  },
  {
   "cell_type": "markdown",
   "metadata": {},
   "source": [
    "### Часть 1: Линейный слой\n"
   ]
  },
  {
   "cell_type": "markdown",
   "metadata": {},
   "source": [
    "Приведем пример вычисления градиентов для линейного слоя: $y = Wx$, $x \\in \\mathbb{R}^{K \\times n}$, $y \\in \\mathbb{R}^{K \\times n}$, $W \\in \\mathbb{R}^{n \\times m}$, где $K$ — число объектов.\n",
    "\n",
    "Рассмотрим $L$ как функцию от выходов нейронной сети: $L = L(y_{11}, y_{12}, \\dots)$\n",
    "\n",
    "$$y_{kt} = (Wx)_{kt} = \\sum_{z=1}^{n} x_{kz}W_{zt}$$\n",
    "\n",
    "$$\\frac{\\partial L}{\\partial x_{ij}} = \\sum_{kt} \\frac{\\partial L}{\\partial y_{kt}}\\frac{\\partial y_{kt}}{\\partial x_{ij}} = \\sum_{kt} \\frac{\\partial L}{\\partial y_{kt}}\\frac{\\partial \\sum_z x_{kz}w_{zt}}{\\partial x_{ij}}= \\sum_{t} \\frac{\\partial L}{\\partial y_{it}}\\frac{\\partial w_{jt}}{\\partial x_{ij}}$$\n",
    "\n",
    "$$\\frac{\\partial{L}}{\\partial x} = \\frac{\\partial{L}}{\\partial y}W^T$$"
   ]
  },
  {
   "cell_type": "code",
   "execution_count": 2,
   "metadata": {},
   "outputs": [],
   "source": [
    "class Linear:\n",
    "    def __init__(self, input_size, output_size):\n",
    "        '''\n",
    "        Creates weights and biases for linear layer.\n",
    "        Dimention of inputs is *input_size*, of output: *output_size*.\n",
    "        '''\n",
    "        self.W = np.random.randn(input_size, output_size) * 0.01\n",
    "        self.b = np.zeros(output_size)        \n",
    "    \n",
    "    def forward(self, X):\n",
    "        '''\n",
    "        Passes objects through this layer.\n",
    "        X is np.array of size (N, input_size).\n",
    "        Returns output of size (N, output_size).\n",
    "        Hint: You may need to store X for backward pass\n",
    "        '''\n",
    "        self.X = X\n",
    "        return X @ self.W + self.b\n",
    "    \n",
    "    def backward(self, dLdy):\n",
    "        '''\n",
    "        1. Compute dLdw and dLdx.\n",
    "        2. Store dLdw for step() call\n",
    "        3. Return dLdx\n",
    "        '''\n",
    "        \n",
    "        #y = WX + b\n",
    "        #dLdW = dLdy * dydw\n",
    "        #dydw = x\n",
    "        \n",
    "        self.dLdW = (dLdy.T @ self.X).T\n",
    "        self.dLdb = dLdy.sum(axis = 0)\n",
    "        \n",
    "        dLdx = dLdy @ self.W.T\n",
    "        \n",
    "        return dLdx\n",
    "    \n",
    "    def step(self, learning_rate):\n",
    "        '''\n",
    "        1. Apply gradient dLdw to network:\n",
    "        w <- w - l*dLdw\n",
    "        '''\n",
    "        \n",
    "        self.W -= learning_rate * self.dLdW\n",
    "        self.b -= learning_rate * self.dLdb"
   ]
  },
  {
   "cell_type": "markdown",
   "metadata": {},
   "source": [
    "### Часть 2: Численный градиент"
   ]
  },
  {
   "cell_type": "markdown",
   "metadata": {},
   "source": [
    "Релизуйте функцию проверки численного градиента. Для этого для каждой переменной, по которой считается градиент, надо вычислить численный градиент: $f'(x) \\approx \\frac{f(x+\\epsilon)-f(x-\\epsilon)}{2\\epsilon}$. Функция должна возвращать максимальное абсолютное отклонение аналитического градиента от численного. В качестве $\\epsilon$ рекомендуется взять $10^{-6}$. При правильной реализации максимальное отличие будет иметь порядок $10^{-8}-10^{-6}$."
   ]
  },
  {
   "cell_type": "code",
   "execution_count": 3,
   "metadata": {},
   "outputs": [],
   "source": [
    "def check_gradient(func, X, gradient):\n",
    "    '''\n",
    "    Computes numerical gradient and compares it with analytcal.\n",
    "    func: callable, function of which gradient we are interested. Example call: func(X)\n",
    "    X: np.array of size (n x m)\n",
    "    gradient: np.array of size (n x m)\n",
    "    Returns: maximum absolute diviation between numerical gradient and analytical.\n",
    "    '''\n",
    "    eps = 10**(-5)\n",
    "    \n",
    "    f_grad = np.zeros(gradient.shape)\n",
    "    \n",
    "    for i in range(X.shape[0]):\n",
    "        for j in range(X.shape[1]):\n",
    "            X[i, j] += eps            \n",
    "            f_r = func(X)\n",
    "            X[i, j] -= 2*eps            \n",
    "            f_l = func(X)            \n",
    "            X[i, j] += eps\n",
    "                    \n",
    "            f_grad[i, j] = (f_r - f_l) / 2 / eps\n",
    "    \n",
    "    return np.max(np.abs(gradient - f_grad))"
   ]
  },
  {
   "cell_type": "code",
   "execution_count": 4,
   "metadata": {},
   "outputs": [
    {
     "data": {
      "text/plain": [
       "5.662181834509283e-10"
      ]
     },
     "execution_count": 4,
     "metadata": {},
     "output_type": "execute_result"
    }
   ],
   "source": [
    "np.random.seed(777)\n",
    "x = np.random.rand(10, 20)\n",
    "func = lambda x: (x**2).sum()\n",
    "gradient = 2*x\n",
    "check_gradient(func, x, gradient)"
   ]
  },
  {
   "cell_type": "markdown",
   "metadata": {},
   "source": [
    "Протестируйте линейный слой при помощи реализованной функции check_gradient: $\\frac{\\partial L}{\\partial x}$ и $\\frac{\\partial L}{\\partial w}$."
   ]
  },
  {
   "cell_type": "code",
   "execution_count": 5,
   "metadata": {},
   "outputs": [
    {
     "name": "stdout",
     "output_type": "stream",
     "text": [
      "[[-0.00822825]\n",
      " [-0.01291034]]\n",
      "[[-0.0164565 ]\n",
      " [-2.02582067]]\n",
      "[[-2.02582067]\n",
      " [-2.04227717]]\n"
     ]
    },
    {
     "data": {
      "text/plain": [
       "9.583001059354501e-12"
      ]
     },
     "execution_count": 5,
     "metadata": {},
     "output_type": "execute_result"
    }
   ],
   "source": [
    "np.random.seed(777)\n",
    "\n",
    "X = np.array([[0, 1], [1, 1]])\n",
    "Y = np.array([[0], [1]])\n",
    "\n",
    "l = Linear(2, 1)\n",
    "\n",
    "def loss(W):\n",
    "    l.W = W\n",
    "    \n",
    "    res = l.forward(X)\n",
    "    \n",
    "    return np.sum((res - Y)**2)\n",
    "\n",
    "res = l.forward(X)\n",
    "print(res)\n",
    "dLdy = 2*(res - Y)\n",
    "print(dLdy)\n",
    "\n",
    "l.backward(dLdy)\n",
    "\n",
    "print(l.dLdW)\n",
    "\n",
    "check_gradient(loss, l.W, l.dLdW)"
   ]
  },
  {
   "cell_type": "markdown",
   "metadata": {},
   "source": [
    "### Часть 3: Сигмоида"
   ]
  },
  {
   "cell_type": "code",
   "execution_count": 6,
   "metadata": {},
   "outputs": [],
   "source": [
    "class Sigmoid:\n",
    "    def __init__(self):\n",
    "        pass\n",
    "    \n",
    "    def forward(self, X):\n",
    "        '''\n",
    "        Passes objects through this layer.\n",
    "        X is np.array of size (N, d)\n",
    "        '''\n",
    "        self.sig = 1 / (1 + np.exp(-X))\n",
    "        return self.sig\n",
    "    \n",
    "    def backward(self, dLdy):\n",
    "        '''\n",
    "        1. Compute dLdx.\n",
    "        2. Return dLdx\n",
    "        '''\n",
    "        return dLdy * self.sig * (1 - self.sig)\n",
    "    \n",
    "    def step(self, learning_rate):\n",
    "        pass"
   ]
  },
  {
   "cell_type": "markdown",
   "metadata": {},
   "source": [
    "Протестируйте слой при помощи реализованной функции check_gradient: $\\frac{\\partial L}{\\partial x}$."
   ]
  },
  {
   "cell_type": "code",
   "execution_count": 7,
   "metadata": {},
   "outputs": [
    {
     "data": {
      "text/plain": [
       "3.1835312164218976e-11"
      ]
     },
     "execution_count": 7,
     "metadata": {},
     "output_type": "execute_result"
    }
   ],
   "source": [
    "X = np.random.rand(10, 2)\n",
    "\n",
    "s = Sigmoid()\n",
    "\n",
    "def loss(X):\n",
    "    res = s.forward(X)\n",
    "    return np.sum(res ** 2)\n",
    "\n",
    "res = s.forward(X)\n",
    "dLdy = 2 * res\n",
    "gradients = s.backward(dLdy)\n",
    "check_gradient(loss, X, gradients)"
   ]
  },
  {
   "cell_type": "markdown",
   "metadata": {},
   "source": [
    "### Часть 4: Функция потерь"
   ]
  },
  {
   "cell_type": "markdown",
   "metadata": {},
   "source": [
    "Как мы увидели на семинаре, вычисление производной для связки SoftMax + Negative log-likelihood проще чем для этих двух слоев по отдельности. Поэтому мы реализуем их как один класс. Важное замечание: на проходе \"вперед\" важно воспользоваться трюком <a href=\"https://blog.feedly.com/tricks-of-the-trade-logsumexp/\">log-sum-exp</a>, чтобы не столкнуться с численными неустойчивостями."
   ]
  },
  {
   "cell_type": "code",
   "execution_count": 8,
   "metadata": {},
   "outputs": [],
   "source": [
    "class MSELoss:\n",
    "    def __init__(self):\n",
    "        pass\n",
    "    \n",
    "    def forward(self, X, y):\n",
    "        # Apply layer to input\n",
    "        self.X = X\n",
    "        self.y = y.reshape([y.shape[0],1])\n",
    "        return np.sum((self.X - self.y) ** 2) / self.X.shape[0]\n",
    "    \n",
    "    def backward(self):\n",
    "        return 2 * (self.X - self.y) / self.y.shape[0]"
   ]
  },
  {
   "cell_type": "code",
   "execution_count": 9,
   "metadata": {},
   "outputs": [],
   "source": [
    "class NLLLoss:\n",
    "    def __init__(self):\n",
    "        '''\n",
    "        Applies Softmax operation to inputs and computes NLL loss\n",
    "        '''\n",
    "        pass\n",
    "    \n",
    "    def forward(self, X, y):\n",
    "        '''\n",
    "        Passes objects through this layer.\n",
    "        X is np.array of size (N, C), where C is the number of classes\n",
    "        y is np.array of size (N), contains correct labels\n",
    "        '''\n",
    "        # Apply layer to input\n",
    "        exp = np.exp(X)\n",
    "        self.p = exp / exp.sum(axis=1, keepdims=True)\n",
    "        self.y = np.zeros_like(X)\n",
    "        self.y[np.arange(X.shape[0]), y] = 1\n",
    "        return -(np.log(self.p) * self.y).sum(axis=1).mean(axis=0)\n",
    "    \n",
    "    def backward(self):\n",
    "        '''\n",
    "        Note that here dLdy = 1 since L = y\n",
    "        1. Compute dLdx\n",
    "        2. Return dLdx\n",
    "        '''\n",
    "        return (self.p - self.y) / self.y.shape[0]"
   ]
  },
  {
   "cell_type": "markdown",
   "metadata": {},
   "source": [
    "Протестируйте слой при помощи реализованной функции check_gradient: $\\frac{\\partial L}{\\partial x}$."
   ]
  },
  {
   "cell_type": "code",
   "execution_count": 10,
   "metadata": {},
   "outputs": [
    {
     "data": {
      "text/plain": [
       "1.3234358053892947e-11"
      ]
     },
     "execution_count": 10,
     "metadata": {},
     "output_type": "execute_result"
    }
   ],
   "source": [
    "X = np.random.rand(2, 3)\n",
    "y = [1, 2]\n",
    "\n",
    "loss = NLLLoss()\n",
    "loss.forward(X, y)\n",
    "func = lambda x: loss.forward(x, y)\n",
    "check_gradient(func, X, loss.backward())"
   ]
  },
  {
   "cell_type": "markdown",
   "metadata": {},
   "source": [
    "### Часть 5, нейронная сеть"
   ]
  },
  {
   "cell_type": "markdown",
   "metadata": {},
   "source": [
    "Теперь, когда у нас есть \"кирпичики\", мы можем написать класс, который будет собирать всю сеть вместе "
   ]
  },
  {
   "cell_type": "code",
   "execution_count": 11,
   "metadata": {},
   "outputs": [],
   "source": [
    "class NeuralNetwork:\n",
    "    def __init__(self, modules):\n",
    "        '''\n",
    "        Constructs network with *modules* as its layers\n",
    "        '''\n",
    "        self.modules = modules\n",
    "        pass\n",
    "    \n",
    "    def forward(self, X):\n",
    "        out = X\n",
    "        for module in self.modules:\n",
    "            out = module.forward(out)\n",
    "        return out\n",
    "    \n",
    "    def backward(self, dLdy):\n",
    "        '''\n",
    "        dLdy here is a gradient from loss function\n",
    "        '''\n",
    "        back_out = dLdy\n",
    "        for module in reversed(self.modules):\n",
    "            back_out = module.backward(back_out)\n",
    "    \n",
    "    def step(self, learning_rate):\n",
    "        for module in self.modules:\n",
    "            module.step(learning_rate)"
   ]
  },
  {
   "cell_type": "markdown",
   "metadata": {},
   "source": [
    "### Часть 6, обучение на простых данных"
   ]
  },
  {
   "cell_type": "code",
   "execution_count": 12,
   "metadata": {},
   "outputs": [
    {
     "data": {
      "image/png": "[encoded data removed]",
      "text/plain": [
       "<Figure size 432x288 with 1 Axes>"
      ]
     },
     "metadata": {
      "needs_background": "light"
     },
     "output_type": "display_data"
    }
   ],
   "source": [
    "data = np.load('data.npz')\n",
    "X, y = data['arr_0'], data['arr_1']\n",
    "plt.scatter(X[:, 0], X[:, 1], c=y)\n",
    "plt.axis('equal')\n",
    "plt.show()"
   ]
  },
  {
   "cell_type": "markdown",
   "metadata": {},
   "source": [
    "Обучите архитектуру вида 2 -> 10 -> 10 -> 3:\n",
    "* Linear(2, 10)\n",
    "* Sigmoid()\n",
    "* Linear(10, 10)\n",
    "* Sigmoid()\n",
    "* Linear(10, 3)\n",
    "\n",
    "В качестве функции потерь используйте NLLLoss.\n",
    "1. Создайте сеть, в цикле запускайте forward, backward, step (используйте learning rate 0.005). \n",
    "2. Нарисуйте график сходимости (величина NLL после каждого обновления).\n",
    "3. Нарисуйте разделяющую поверхность\n",
    "4. Попробуйте подобрать темп обучения. Как меняется сходимость?"
   ]
  },
  {
   "cell_type": "markdown",
   "metadata": {},
   "source": [
    "Отличная визуализация: http://playground.tensorflow.org/"
   ]
  },
  {
   "cell_type": "markdown",
   "metadata": {},
   "source": [
    "## Домашнее задание:"
   ]
  },
  {
   "cell_type": "markdown",
   "metadata": {},
   "source": [
    "* Подоберите темп обучения. Как меняется сходимость? Нарисуйте график оптимального значения функции потерь для различных значений learning_rate\n",
    "* Решите поставленную выше задачу как задачу регрессии с MSE. Изменилась ли разделяющая поверхность?"
   ]
  },
  {
   "cell_type": "code",
   "execution_count": 13,
   "metadata": {},
   "outputs": [
    {
     "data": {
      "text/plain": [
       "[<matplotlib.lines.Line2D at 0x1bd70a73790>]"
      ]
     },
     "execution_count": 13,
     "metadata": {},
     "output_type": "execute_result"
    },
    {
     "data": {
      "image/png": "[encoded data removed]",
      "text/plain": [
       "<Figure size 432x288 with 1 Axes>"
      ]
     },
     "metadata": {
      "needs_background": "light"
     },
     "output_type": "display_data"
    }
   ],
   "source": [
    "layers = [Linear(2, 10), Sigmoid(), Linear(10, 10), Sigmoid(), Linear(10, 3)]\n",
    "netWork = NeuralNetwork(layers)\n",
    "loss_func = NLLLoss()\n",
    "learning_rate = 0.005\n",
    "losses = []\n",
    "prev_loss = 0\n",
    "cur_loss = 100\n",
    "eps = 10 ** (-7)\n",
    "\n",
    "while abs(prev_loss - cur_loss) >= eps:\n",
    "    pred = netWork.forward(X)    \n",
    "    prev_loss = cur_loss\n",
    "    cur_loss = loss_func.forward(pred, y)\n",
    "    losses.append(cur_loss)    \n",
    "    dLdy = loss_func.backward()\n",
    "    netWork.backward(dLdy)\n",
    "    netWork.step(learning_rate)\n",
    "\n",
    "plt.plot(losses)"
   ]
  },
  {
   "cell_type": "code",
   "execution_count": 14,
   "metadata": {},
   "outputs": [
    {
     "data": {
      "text/plain": [
       "[<matplotlib.lines.Line2D at 0x1bd71b372b0>]"
      ]
     },
     "execution_count": 14,
     "metadata": {},
     "output_type": "execute_result"
    },
    {
     "data": {
      "image/png": "[encoded data removed]",
      "text/plain": [
       "<Figure size 432x288 with 1 Axes>"
      ]
     },
     "metadata": {
      "needs_background": "light"
     },
     "output_type": "display_data"
    }
   ],
   "source": [
    "rates = np.linspace(0.5, 1, 50)\n",
    "losses = []\n",
    "netWork = NeuralNetwork(layers)\n",
    "\n",
    "for rate in rates:\n",
    "    loss_func = NLLLoss()\n",
    "    for i in range(950):\n",
    "        predictions = netWork.forward(X)\n",
    "        loss = loss_func.forward(predictions, y)\n",
    "        dLdy = loss_func.backward()\n",
    "        netWork.backward(dLdy)\n",
    "        netWork.step(rate)\n",
    "    losses.append(loss)\n",
    "\n",
    "plt.plot(rates, losses)"
   ]
  },
  {
   "cell_type": "code",
   "execution_count": 15,
   "metadata": {},
   "outputs": [
    {
     "data": {
      "image/png": "[encoded data removed]",
      "text/plain": [
       "<Figure size 432x288 with 1 Axes>"
      ]
     },
     "metadata": {
      "needs_background": "light"
     },
     "output_type": "display_data"
    }
   ],
   "source": [
    "N = 50\n",
    "x_grid = np.linspace(-0.2, 1.2, N)\n",
    "y_grid = np.linspace(0, 1, N)\n",
    "\n",
    "X_mesh, Y_mesh = np.meshgrid(x_grid, y_grid)\n",
    "\n",
    "mesh = np.dstack((X_mesh, Y_mesh)).reshape(N * N, 2)\n",
    "predictions = np.argmax(netWork.forward(mesh), 1)\n",
    "\n",
    "plt.scatter(mesh[:, 0], mesh[:, 1], c=predictions)\n",
    "plt.scatter(X[:, 0], X[:, 1], c=y)\n",
    "plt.axis('equal')\n",
    "plt.show()"
   ]
  },
  {
   "cell_type": "markdown",
   "metadata": {},
   "source": [
    "MSE:"
   ]
  },
  {
   "cell_type": "code",
   "execution_count": 16,
   "metadata": {},
   "outputs": [
    {
     "data": {
      "text/plain": [
       "[<matplotlib.lines.Line2D at 0x1bd71be8820>]"
      ]
     },
     "execution_count": 16,
     "metadata": {},
     "output_type": "execute_result"
    },
    {
     "data": {
      "image/png": "[encoded data removed]",
      "text/plain": [
       "<Figure size 432x288 with 1 Axes>"
      ]
     },
     "metadata": {
      "needs_background": "light"
     },
     "output_type": "display_data"
    }
   ],
   "source": [
    "netWork = NeuralNetwork([Linear(2, 10), Sigmoid(), Linear(10, 10), Sigmoid(), Linear(10, 3)])\n",
    "loss_func = MSELoss()\n",
    "learning_rate = 0.005\n",
    "losses = []\n",
    "prev_loss = 0\n",
    "cur_loss = 100\n",
    "\n",
    "while np.abs(prev_loss - cur_loss) >= 10 ** (-5):\n",
    "    prediction = netWork.forward(X)\n",
    "    prev_loss = cur_loss    \n",
    "    cur_loss = loss_func.forward(prediction, y)\n",
    "    losses.append(cur_loss)    \n",
    "    dLdy = loss_func.backward()\n",
    "    netWork.backward(dLdy)\n",
    "    netWork.step(learning_rate)\n",
    "    \n",
    "plt.plot(losses)"
   ]
  },
  {
   "cell_type": "code",
   "execution_count": 17,
   "metadata": {},
   "outputs": [
    {
     "data": {
      "text/plain": [
       "[<matplotlib.lines.Line2D at 0x1bd71c40430>]"
      ]
     },
     "execution_count": 17,
     "metadata": {},
     "output_type": "execute_result"
    },
    {
     "data": {
      "image/png": "[encoded data removed]",
      "text/plain": [
       "<Figure size 432x288 with 1 Axes>"
      ]
     },
     "metadata": {
      "needs_background": "light"
     },
     "output_type": "display_data"
    }
   ],
   "source": [
    "rates = np.linspace(0.1, 0.5, 50)\n",
    "losses = []\n",
    "netWork = NeuralNetwork([Linear(2, 10), Sigmoid(), Linear(10, 10), Sigmoid(), Linear(10, 3)])\n",
    "\n",
    "for rate in rates:\n",
    "    loss_func = MSELoss()\n",
    "    for i in range(1000):\n",
    "        predictions = netWork.forward(X)\n",
    "        loss = loss_func.forward(predictions, y)\n",
    "        dLdy = loss_func.backward()\n",
    "        netWork.backward(dLdy)\n",
    "        netWork.step(rate)\n",
    "    losses.append(loss)\n",
    "\n",
    "plt.plot(rates, losses)"
   ]
  },
  {
   "cell_type": "code",
   "execution_count": 18,
   "metadata": {},
   "outputs": [
    {
     "data": {
      "image/png": "[encoded data removed]",
      "text/plain": [
       "<Figure size 432x288 with 1 Axes>"
      ]
     },
     "metadata": {
      "needs_background": "light"
     },
     "output_type": "display_data"
    }
   ],
   "source": [
    "N = 50\n",
    "x_grid = np.linspace(-0.2, 1.2, N)\n",
    "y_grid = np.linspace(0, 1, N)\n",
    "\n",
    "X_mesh, Y_mesh = np.meshgrid(x_grid, y_grid)\n",
    "\n",
    "mesh = np.dstack((X_mesh, Y_mesh)).reshape(N * N, 2)\n",
    "predictions = (np.rint(netWork.forward(mesh)))[:, 0]\n",
    "\n",
    "predictions[predictions < 0] = 0\n",
    "plt.scatter(mesh[:, 0], mesh[:, 1], c=predictions)\n",
    "plt.scatter(X[:, 0], X[:, 1], c=y)\n",
    "plt.axis('equal')\n",
    "plt.show()"
   ]
  },
  {
   "cell_type": "code",
   "execution_count": null,
   "metadata": {},
   "outputs": [],
   "source": []
  }
 ],
 "metadata": {
  "kernelspec": {
   "display_name": "Python 3",
   "language": "python",
   "name": "python3"
  },
  "language_info": {
   "codemirror_mode": {
    "name": "ipython",
    "version": 3
   },
   "file_extension": ".py",
   "mimetype": "text/x-python",
   "name": "python",
   "nbconvert_exporter": "python",
   "pygments_lexer": "ipython3",
   "version": "3.8.3"
  }
 },
 "nbformat": 4,
 "nbformat_minor": 2
}
